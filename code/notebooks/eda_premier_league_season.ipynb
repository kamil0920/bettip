{
 "cells": [
  {
   "cell_type": "code",
   "execution_count": 1,
   "id": "initial_id",
   "metadata": {
    "jupyter": {
     "is_executing": true
    }
   },
   "outputs": [],
   "source": [
    "import argparse\n",
    "from pathlib import Path\n",
    "import pandas as pd\n",
    "import numpy as np\n",
    "import matplotlib.pyplot as plt\n",
    "import json\n",
    "import sys"
   ]
  },
  {
   "cell_type": "code",
   "execution_count": 2,
   "id": "8fec095bd1ce27d9",
   "metadata": {},
   "outputs": [],
   "source": [
    "def load_parquet_optional(p: Path):\n",
    "    if p.exists():\n",
    "        try:\n",
    "            return pd.read_parquet(p)\n",
    "        except Exception as e:\n",
    "            print(f\"Failed to read {p}: {e}\")\n",
    "            return None\n",
    "    return None\n",
    "\n",
    "\n",
    "def sanitize_numeric_series(s):\n",
    "    return pd.to_numeric(s, errors='coerce')\n",
    "\n",
    "\n",
    "# small plotting helper\n",
    "def save_plot(fig, path: Path):\n",
    "    path.parent.mkdir(parents=True, exist_ok=True)\n",
    "    fig.savefig(path, bbox_inches='tight')\n",
    "    plt.close(fig)"
   ]
  },
  {
   "cell_type": "code",
   "execution_count": 4,
   "id": "8dd81f47-5b7d-4a4f-9739-62b24cf794f5",
   "metadata": {},
   "outputs": [
    {
     "name": "stdout",
     "output_type": "stream",
     "text": [
      "Season folder: /home/kamil/projects/tipster/data/seasons/2020\n",
      "Loaded:\n",
      " matches: (380, 17)\n",
      " players: (14643, 10)\n",
      " events : (11132, 9)\n",
      " teams : (20, 2)\n"
     ]
    }
   ],
   "source": [
    "# when pasted into a notebook, set SEASON variable manually\n",
    "SEASON = 2020\n",
    "\n",
    "PROJECT_ROOT = PROJECT_ROOT = Path.cwd().parents[1]\n",
    "BASE_DIR = PROJECT_ROOT / \"data\" / \"seasons\" / str(SEASON)\n",
    "\n",
    "SAVE_REPORT = False\n",
    "OUT_DIR = BASE_DIR / 'eda_report'\n",
    "\n",
    "OUT_DIR.mkdir(parents=True, exist_ok=True)\n",
    "PLOTS_DIR = OUT_DIR / 'plots'\n",
    "PLOTS_DIR.mkdir(parents=True, exist_ok=True)\n",
    "\n",
    "print(f\"Season folder: {BASE_DIR.resolve()}\")\n",
    "\n",
    "# %%\n",
    "# Load normalized tables\n",
    "matches_fp = BASE_DIR / 'matches.parquet'\n",
    "players_fp = BASE_DIR / 'player_stats.parquet'\n",
    "events_fp = BASE_DIR / 'events.parquet'\n",
    "teams_fp = BASE_DIR / 'teams.parquet'\n",
    "\n",
    "matches = load_parquet_optional(matches_fp)\n",
    "players = load_parquet_optional(players_fp)\n",
    "events = load_parquet_optional(events_fp)\n",
    "teams = load_parquet_optional(teams_fp)\n",
    "\n",
    "print('Loaded:')\n",
    "print(' matches:', getattr(matches, 'shape', None))\n",
    "print(' players:', getattr(players, 'shape', None))\n",
    "print(' events :', getattr(events, 'shape', None))\n",
    "print(' teams :', getattr(teams, 'shape', None))\n"
   ]
  },
  {
   "cell_type": "code",
   "execution_count": null,
   "id": "a6ed181b-24cb-4928-af64-0ff9deab02e6",
   "metadata": {},
   "outputs": [],
   "source": []
  }
 ],
 "metadata": {
  "kernelspec": {
   "display_name": "Tipster Venv",
   "language": "python",
   "name": "tipster_venv"
  },
  "language_info": {
   "codemirror_mode": {
    "name": "ipython",
    "version": 3
   },
   "file_extension": ".py",
   "mimetype": "text/x-python",
   "name": "python",
   "nbconvert_exporter": "python",
   "pygments_lexer": "ipython3",
   "version": "3.10.12"
  }
 },
 "nbformat": 4,
 "nbformat_minor": 5
}
